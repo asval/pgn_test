{
 "cells": [
  {
   "cell_type": "code",
   "execution_count": 1,
   "metadata": {},
   "outputs": [],
   "source": [
    "import math"
   ]
  },
  {
   "cell_type": "markdown",
   "metadata": {},
   "source": [
    "## Ключевые понятия "
   ]
  },
  {
   "cell_type": "markdown",
   "metadata": {},
   "source": [
    "Пропускная способность трубопроводной сети.  \n",
    "Первый и второй законы Кирхгофа (применительно к трубопроводам).  \n",
    "Что есть напор? Head loss  \n",
    "Идеально гладкие стенки (?)"
   ]
  },
  {
   "cell_type": "markdown",
   "metadata": {},
   "source": [
    "Выбор точек входа и выхода  \n",
    "Обход графа  \n",
    "Поиск циклов (петель)  \n",
    "Узловой анализ  \n",
    "Анализ петель"
   ]
  },
  {
   "cell_type": "markdown",
   "metadata": {},
   "source": [
    "## Darcy–Weisbach, Head Loss"
   ]
  },
  {
   "cell_type": "markdown",
   "metadata": {},
   "source": [
    "Одна из форм записи уравнения Darcy–Weisbach:"
   ]
  },
  {
   "cell_type": "markdown",
   "metadata": {},
   "source": [
    " $ \\frac{\\Delta p}{L} = \\rho f_D \\frac{8}{\\pi^2} \\frac{Q^2}{D_C^5}$\n",
    " \n",
    " Q - объемный расход жидкости, $D_C$ - диаметр трубы, $L$ - длина трубы, $\\Delta p$ - падение давления на трубе, $f_D$ - коэффициент трения Дарси, $\\rho$ - плотность жидкости"
   ]
  },
  {
   "cell_type": "markdown",
   "metadata": {},
   "source": [
    "Может быть удобным работать с величиной $S$ (т.н. head loss на единицу длины):\n",
    "\n",
    "$S = \\frac{1}{\\rho g} \\frac{\\Delta p}{L}$"
   ]
  },
  {
   "cell_type": "markdown",
   "metadata": {},
   "source": [
    "Уравнение Darcy–Weisbach в терминах head loss (на единицу длины) записывается как:\n",
    "    \n",
    "$S = f_D \\frac{8}{\\pi^2 g} \\frac{Q^2}{D_C^5}$"
   ]
  },
  {
   "cell_type": "markdown",
   "metadata": {},
   "source": [
    "## Pipe network analysis, Hardy Cross метод "
   ]
  },
  {
   "cell_type": "markdown",
   "metadata": {},
   "source": [
    "В общем случае, зависимость head loss от объемного потока может задаваться выражением  \n",
    "$h_f = r Q^n$"
   ]
  },
  {
   "cell_type": "markdown",
   "metadata": {},
   "source": [
    "#### Процедура \n",
    "1. Выбираем первоначальные значения потоков для каждой трубы. Предположение не обязательно должно быть верным, но хорошее предположение может ускорить сходимость процесса. При этом для каждого узла полный втекающий поток должен равняться полному вытекающему. \n",
    "1. Поиск замкнутых циклов в системе  \n",
    "2. Задание положительных и отрицательных head loss  \n",
    "3. Определяем общий head loss для каждой петли с учетом знаков (в зависимости от направления).  \n",
    "4. Для каждой петли (т.е. ребра графа) вычисляем выражение $\\Sigma n r Q^{n-1}$ \n",
    "5. Вычисляем значение коррекции для каждой петли $\\frac{\\Sigma r Q^n}{\\Sigma n r Q^{n-1}}$\n",
    "6. В зависимости от знака коррекции применяем ее к трубам с потоками против часовой стрелки (положительное значение коррекции) или по часовой (отрицательное значение)\n",
    "3. Итеративно повторяем процедуру начиная с третьего пункта. "
   ]
  },
  {
   "cell_type": "markdown",
   "metadata": {},
   "source": [
    "### Расчет эквивалентного значения head loss при параллельном и последовательном подключения труб"
   ]
  },
  {
   "cell_type": "markdown",
   "metadata": {},
   "source": [
    "$h_f = K Q^2$ "
   ]
  },
  {
   "cell_type": "markdown",
   "metadata": {},
   "source": [
    "##### 1. Последовательное подключение труб\n",
    "\n",
    "По закону Дарси (см. выше):  \n",
    "$h_f = f_D \\frac{8 L}{\\pi^2 g D_C^5} Q^2$  \n",
    "При последовательном подключении труб общий head loss ($h_{f eq}$) равен сумме head loss на каждой из труб:  \n",
    "$h_{f1} = k_1 Q^2$   \n",
    "$h_{f2} = k_2 Q^2$  \n",
    "$h_{f1} + h_{f2} = h_{f eq}$  \n",
    "$k_{eq} Q^2 = k_1 Q^2 + k_2 Q^2$ (общий поток берется одинаковым)\n",
    "\n",
    "Таким образом: \n",
    "\\begin{equation}\n",
    "k_{eq} = k_1 + k_2\n",
    "\\end{equation}"
   ]
  },
  {
   "cell_type": "markdown",
   "metadata": {},
   "source": [
    "#### 2. Параллельное подключение труб"
   ]
  },
  {
   "cell_type": "markdown",
   "metadata": {},
   "source": [
    "При параллельном подключении head loss одинаковые, но потоки в трубах разные.  \n",
    "$h_f = k_1 Q_1^2 $  \n",
    "$h_f = k_2 Q_2^2 $  \n",
    "$h_f = k_{eq} (Q_1 + Q_2)^2$   \n",
    "\n",
    "$h_f = k_{eq} \\left \\{ \\sqrt{\\frac{h_f}{k_1}} + \\sqrt{\\frac{h_f}{k_1}}\\right \\}^2$  \n",
    "$1 = k_{eq} \\left \\{ \\frac{1}{k_1} + \\frac{1}{k_2} + \\frac{2}{\\sqrt{k_1 k_2}} \\right \\}$   \n",
    "Получаем:\n",
    "\\begin{equation}\n",
    "k_{eq} = \\frac{1}{\\frac{1}{k_1} + \\frac{1}{k_2} + \\frac{2}{\\sqrt{k_1 k_2}}}\n",
    "\\end{equation}"
   ]
  },
  {
   "cell_type": "markdown",
   "metadata": {},
   "source": [
    "##### Число Рейнольдса для ламинарного потока"
   ]
  },
  {
   "cell_type": "markdown",
   "metadata": {},
   "source": [
    "$f_D = \\frac{64}{Re}$  "
   ]
  },
  {
   "cell_type": "markdown",
   "metadata": {},
   "source": [
    "Решения примеров a, b, c"
   ]
  },
  {
   "cell_type": "markdown",
   "metadata": {},
   "source": [
    "Считаем, что нам известен общий head loss (напор же вроде как задан)"
   ]
  },
  {
   "cell_type": "markdown",
   "metadata": {},
   "source": [
    "### a.   \n",
    "Пример задачи – есть 1 участок, A-B, длинна 1 км, диаметр 0.7 м. Надо перекачать\n",
    "1000 м3. Требуется определить время на перекачку."
   ]
  },
  {
   "cell_type": "markdown",
   "metadata": {},
   "source": [
    "Еще раз, $K = f_D \\frac{8 L}{\\pi^2 g D_C^5}$  \n",
    "Тогда $Q = \\sqrt{\\frac{h_f}{K}}$"
   ]
  },
  {
   "cell_type": "code",
   "execution_count": 2,
   "metadata": {},
   "outputs": [],
   "source": [
    "L = 1000\n",
    "d = 0.7\n",
    "V = 1000\n",
    "fd = 0.001\n",
    "g = 9.8\n",
    "hf = 1"
   ]
  },
  {
   "cell_type": "code",
   "execution_count": 3,
   "metadata": {},
   "outputs": [],
   "source": [
    "K = fd * 8 * L/(math.pi**2 * g * d**5)"
   ]
  },
  {
   "cell_type": "markdown",
   "metadata": {},
   "source": [
    "Объемный расход воды"
   ]
  },
  {
   "cell_type": "code",
   "execution_count": 61,
   "metadata": {},
   "outputs": [],
   "source": [
    "Q = math.sqrt(hf/K)"
   ]
  },
  {
   "cell_type": "markdown",
   "metadata": {},
   "source": [
    "Общее время на перекачку всего объема"
   ]
  },
  {
   "cell_type": "code",
   "execution_count": 62,
   "metadata": {},
   "outputs": [],
   "source": [
    "t_pump = V/Q"
   ]
  },
  {
   "cell_type": "code",
   "execution_count": 63,
   "metadata": {},
   "outputs": [
    {
     "name": "stdout",
     "output_type": "stream",
     "text": [
      "1.4254861992743326\n"
     ]
    }
   ],
   "source": [
    "print(Q)"
   ]
  },
  {
   "cell_type": "code",
   "execution_count": 64,
   "metadata": {},
   "outputs": [
    {
     "name": "stdout",
     "output_type": "stream",
     "text": [
      "701.5150343153562\n"
     ]
    }
   ],
   "source": [
    "print(t_pump)"
   ]
  },
  {
   "cell_type": "markdown",
   "metadata": {},
   "source": [
    "### b.\n",
    "\n",
    "Пример задачи. Есть трубопровод из 4 участков, A (диаметр 0,7м)-B(диаметр 0,2м)-\n",
    "C(диаметр 0,15м)-D(диаметр 0,7м), каждый по 2 км. Надо перекачать 1000 м3.\n",
    "Требуется определить время на перекачку."
   ]
  },
  {
   "cell_type": "code",
   "execution_count": 56,
   "metadata": {},
   "outputs": [],
   "source": [
    "class Pipe:\n",
    "    def __init__(self, L, D):\n",
    "        self.L = L\n",
    "        self.D = D\n",
    "    def get_K(self, fd):\n",
    "        self.K = fd * 8 * self.L/(math.pi**2 * g * self.D**5)\n",
    "        return self"
   ]
  },
  {
   "cell_type": "code",
   "execution_count": 15,
   "metadata": {},
   "outputs": [],
   "source": [
    "p1 = Pipe(2000, 0.7 )\n",
    "p2 = Pipe(2000, 0.2)\n",
    "p3 = Pipe(2000, 0.15)\n",
    "p4 = Pipe(2000, 0.7)"
   ]
  },
  {
   "cell_type": "markdown",
   "metadata": {},
   "source": [
    "Для упрощения берем одинаковое значение fd для всех труб. Можно сделать и разные, не проблема."
   ]
  },
  {
   "cell_type": "code",
   "execution_count": 16,
   "metadata": {},
   "outputs": [],
   "source": [
    "fd = 0.3 "
   ]
  },
  {
   "cell_type": "markdown",
   "metadata": {},
   "source": [
    "Общий head loss считаем известным (напор)"
   ]
  },
  {
   "cell_type": "code",
   "execution_count": 17,
   "metadata": {},
   "outputs": [],
   "source": [
    "hf = 1"
   ]
  },
  {
   "cell_type": "code",
   "execution_count": 18,
   "metadata": {},
   "outputs": [],
   "source": [
    "V = 1000"
   ]
  },
  {
   "cell_type": "code",
   "execution_count": 19,
   "metadata": {},
   "outputs": [],
   "source": [
    "pipe_net = [p1, p2, p3, p4]\n",
    "#net_f = [0.3, 0.4, 0.2, 0.3]"
   ]
  },
  {
   "cell_type": "code",
   "execution_count": 20,
   "metadata": {},
   "outputs": [],
   "source": [
    "for pipe in pipe_net:\n",
    "    pipe.get_K(fd)"
   ]
  },
  {
   "cell_type": "code",
   "execution_count": 21,
   "metadata": {},
   "outputs": [
    {
     "data": {
      "text/plain": [
       "295.2740060222851"
      ]
     },
     "execution_count": 21,
     "metadata": {},
     "output_type": "execute_result"
    }
   ],
   "source": [
    "p1.K"
   ]
  },
  {
   "cell_type": "markdown",
   "metadata": {},
   "source": [
    "Эффективное значение K для всей системы:"
   ]
  },
  {
   "cell_type": "code",
   "execution_count": 22,
   "metadata": {},
   "outputs": [],
   "source": [
    "K_tot = sum([pipe.K for pipe in pipe_net])"
   ]
  },
  {
   "cell_type": "code",
   "execution_count": 23,
   "metadata": {},
   "outputs": [
    {
     "data": {
      "text/plain": [
       "809194.3504486909"
      ]
     },
     "execution_count": 23,
     "metadata": {},
     "output_type": "execute_result"
    }
   ],
   "source": [
    "K_tot"
   ]
  },
  {
   "cell_type": "code",
   "execution_count": 24,
   "metadata": {},
   "outputs": [],
   "source": [
    "Q = math.sqrt(hf/K_tot)"
   ]
  },
  {
   "cell_type": "code",
   "execution_count": 26,
   "metadata": {},
   "outputs": [
    {
     "data": {
      "text/plain": [
       "0.0011116640953646988"
      ]
     },
     "execution_count": 26,
     "metadata": {},
     "output_type": "execute_result"
    }
   ],
   "source": [
    "Q"
   ]
  },
  {
   "cell_type": "code",
   "execution_count": 27,
   "metadata": {},
   "outputs": [],
   "source": [
    "pump_duration = V/Q"
   ]
  },
  {
   "cell_type": "code",
   "execution_count": 28,
   "metadata": {},
   "outputs": [
    {
     "data": {
      "text/plain": [
       "899552.3055657692"
      ]
     },
     "execution_count": 28,
     "metadata": {},
     "output_type": "execute_result"
    }
   ],
   "source": [
    "pump_duration"
   ]
  },
  {
   "cell_type": "markdown",
   "metadata": {},
   "source": [
    "### c. \n",
    "\n",
    "Пример задачи. Есть трубопровод из 4 участков, A (диаметр 0.7м)-[ B(диаметр\n",
    "0.2м)-C(диаметр 0.15м)]-D(диаметр 0,\n",
    "                          7м), каждый по 20 000 км. Надо перекачать\n",
    "1000 000 000 м3. Требуется определить время на перекачку. [квадратные скобки]\n",
    "означают что два участка подключены параллельно."
   ]
  },
  {
   "cell_type": "code",
   "execution_count": 57,
   "metadata": {},
   "outputs": [],
   "source": [
    "pipe_A = Pipe(20000000, 0.7)\n",
    "pipe_B = Pipe(20000000, 0.2)\n",
    "pipe_C = Pipe(20000000, 0.15)\n",
    "pipe_D = Pipe(20000000, 0.7)"
   ]
  },
  {
   "cell_type": "code",
   "execution_count": 61,
   "metadata": {},
   "outputs": [],
   "source": [
    "pipes_list = [pipe_A, pipe_B, pipe_C, pipe_D]"
   ]
  },
  {
   "cell_type": "code",
   "execution_count": 62,
   "metadata": {},
   "outputs": [],
   "source": [
    "hf = 1\n",
    "fd = 0.3 \n",
    "V = 1000000"
   ]
  },
  {
   "cell_type": "markdown",
   "metadata": {},
   "source": [
    "Вычисление эффективного значения k для двух параллельно подключенных труб (B и С):"
   ]
  },
  {
   "cell_type": "code",
   "execution_count": 63,
   "metadata": {},
   "outputs": [],
   "source": [
    "for pipe in pipes_list:\n",
    "    pipe.get_K(fd)"
   ]
  },
  {
   "cell_type": "code",
   "execution_count": 64,
   "metadata": {},
   "outputs": [],
   "source": [
    "def get_k_eq_parallel_pipes(k1, k2):\n",
    "    k_eq = 1/(1/k1 + 1/k2 + 2/math.sqrt(k1 * k2))\n",
    "    return k_eq"
   ]
  },
  {
   "cell_type": "code",
   "execution_count": 70,
   "metadata": {},
   "outputs": [],
   "source": [
    "K_eq = get_k_eq_parallel_pipes(pipe_B.K, pipe_C.K)"
   ]
  },
  {
   "cell_type": "markdown",
   "metadata": {},
   "source": [
    "Дальше работаем с последовательным подключением pipe_A, pipe_eq, pipe_D"
   ]
  },
  {
   "cell_type": "code",
   "execution_count": 73,
   "metadata": {},
   "outputs": [],
   "source": [
    "K_total = pipe_A.K + K_eq + pipe_D.K"
   ]
  },
  {
   "cell_type": "code",
   "execution_count": 76,
   "metadata": {},
   "outputs": [],
   "source": [
    "Q = math.sqrt(hf/K_total)"
   ]
  },
  {
   "cell_type": "code",
   "execution_count": 78,
   "metadata": {},
   "outputs": [],
   "source": [
    "t_pump = V/Q"
   ]
  },
  {
   "cell_type": "code",
   "execution_count": 79,
   "metadata": {},
   "outputs": [
    {
     "data": {
      "text/plain": [
       "26592069346.3917"
      ]
     },
     "execution_count": 79,
     "metadata": {},
     "output_type": "execute_result"
    }
   ],
   "source": [
    "t_pump"
   ]
  },
  {
   "cell_type": "code",
   "execution_count": null,
   "metadata": {},
   "outputs": [],
   "source": []
  }
 ],
 "metadata": {
  "kernelspec": {
   "display_name": "Python 3",
   "language": "python",
   "name": "python3"
  },
  "language_info": {
   "codemirror_mode": {
    "name": "ipython",
    "version": 3
   },
   "file_extension": ".py",
   "mimetype": "text/x-python",
   "name": "python",
   "nbconvert_exporter": "python",
   "pygments_lexer": "ipython3",
   "version": "3.8.5"
  }
 },
 "nbformat": 4,
 "nbformat_minor": 4
}
